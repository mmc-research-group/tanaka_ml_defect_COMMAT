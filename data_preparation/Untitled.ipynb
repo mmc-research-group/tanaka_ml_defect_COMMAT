{
 "cells": [
  {
   "cell_type": "code",
   "execution_count": 1,
   "id": "75f861b5-df91-48c2-aaeb-d00b5e98d4da",
   "metadata": {},
   "outputs": [
    {
     "name": "stderr",
     "output_type": "stream",
     "text": [
      "OpenCV: FFMPEG: tag 0x34363248/'H264' is not supported with codec id 27 and format 'mp4 / MP4 (MPEG-4 Part 14)'\n",
      "OpenCV: FFMPEG: fallback to use tag 0x31637661/'avc1'\n"
     ]
    }
   ],
   "source": [
    "#ライブラリのインポート\n",
    "import cv2\n",
    "\n",
    "#VideoCaptureオブジェクトを取得\n",
    "cap = cv2.VideoCapture('original_video.avi')\n",
    "\n",
    "#動画のプロパティを取得\n",
    "width = int(cap.get(cv2.CAP_PROP_FRAME_WIDTH))\n",
    "height = int(cap.get(cv2.CAP_PROP_FRAME_HEIGHT))\n",
    "fps = cap.get(cv2.CAP_PROP_FPS)\n",
    "\n",
    "#書き出し設定\n",
    "fourcc = cv2.VideoWriter_fourcc(\"H\",\"2\",\"6\",\"4\")\n",
    "writer = cv2.VideoWriter('original_video.mp4', fourcc, fps, (width, height))\n",
    "\n",
    "while True:\n",
    "    ret, frame = cap.read()\n",
    "    writer.write(frame)\n",
    "    if not ret:\n",
    "        break\n",
    "\n",
    "writer.release()\n",
    "cap.release()"
   ]
  },
  {
   "cell_type": "code",
   "execution_count": null,
   "id": "a1ca93d9-83c9-42c1-bd5c-168bc20458f3",
   "metadata": {},
   "outputs": [],
   "source": []
  }
 ],
 "metadata": {
  "kernelspec": {
   "display_name": "1018",
   "language": "python",
   "name": "1018"
  },
  "language_info": {
   "codemirror_mode": {
    "name": "ipython",
    "version": 3
   },
   "file_extension": ".py",
   "mimetype": "text/x-python",
   "name": "python",
   "nbconvert_exporter": "python",
   "pygments_lexer": "ipython3",
   "version": "3.11.5"
  }
 },
 "nbformat": 4,
 "nbformat_minor": 5
}
