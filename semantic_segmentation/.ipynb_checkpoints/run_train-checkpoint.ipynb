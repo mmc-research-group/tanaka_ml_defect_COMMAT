{
 "cells": [
  {
   "cell_type": "code",
   "execution_count": 1,
   "id": "81b98d34-1a13-43fc-89d4-6cf90f4146b7",
   "metadata": {},
   "outputs": [
    {
     "name": "stderr",
     "output_type": "stream",
     "text": [
      "INFO: Using device cuda\n",
      "INFO: Network:\n",
      "\t3 input channels\n",
      "\t2 output channels (classes)\n",
      "\tTransposed conv upscaling\n",
      "INFO: Creating dataset with 56 examples\n",
      "ERROR: Failed to detect the name of this notebook, you can set it manually with the WANDB_NOTEBOOK_NAME environment variable to enable code saving.\n",
      "\u001b[34m\u001b[1mwandb\u001b[0m: \u001b[33mWARNING\u001b[0m `resume` will be ignored since W&B syncing is set to `offline`. Starting a new run with run id 7t97oghk.\n"
     ]
    },
    {
     "data": {
      "text/html": [
       "Tracking run with wandb version 0.15.11"
      ],
      "text/plain": [
       "<IPython.core.display.HTML object>"
      ]
     },
     "metadata": {},
     "output_type": "display_data"
    },
    {
     "data": {
      "text/html": [
       "W&B syncing is set to <code>`offline`<code> in this directory.  <br/>Run <code>`wandb online`<code> or set <code>WANDB_MODE=online<code> to enable cloud syncing."
      ],
      "text/plain": [
       "<IPython.core.display.HTML object>"
      ]
     },
     "metadata": {},
     "output_type": "display_data"
    },
    {
     "name": "stderr",
     "output_type": "stream",
     "text": [
      "INFO: Starting training:\n",
      "        Epochs:          40\n",
      "        Batch size:      1\n",
      "        Learning rate:   1e-05\n",
      "        Training size:   45\n",
      "        Validation size: 11\n",
      "        Checkpoints:     True\n",
      "        Device:          cuda\n",
      "        Images scaling:  1.0\n",
      "        Mixed Precision: False\n",
      "    \n",
      "Epoch 1/40:  24%|██▍       | 11/45 [00:01<00:02, 12.11img/s, loss (batch)=0.871]\n",
      "Validation round:   0%|          | 0/11 [00:00<?, ?batch/s]\u001b[A\n",
      "Validation round:   9%|▉         | 1/11 [00:00<00:01,  7.37batch/s]\u001b[A\n",
      "Validation round:  55%|█████▍    | 6/11 [00:00<00:00, 27.92batch/s]\u001b[A\n",
      "Validation round: 100%|██████████| 11/11 [00:00<00:00, 35.65batch/s]\u001b[A\n",
      "                                                                    \u001b[AINFO: Validation Dice score: 0.7198939323425293\n",
      "\n",
      "Validation round:   0%|          | 0/11 [00:00<?, ?batch/s]\u001b[A\n",
      "Epoch 1/40:  49%|████▉     | 22/45 [00:04<00:03,  6.28img/s, loss (batch)=0.753]\n",
      "Validation round:   0%|          | 0/11 [00:00<?, ?batch/s]\u001b[A\n",
      "Validation round:   9%|▉         | 1/11 [00:00<00:01,  7.39batch/s]\u001b[A\n",
      "Validation round:  55%|█████▍    | 6/11 [00:00<00:00, 28.06batch/s]\u001b[A\n",
      "Validation round: 100%|██████████| 11/11 [00:00<00:00, 35.59batch/s]\u001b[A\n",
      "                                                                    \u001b[AINFO: Validation Dice score: 0.7198939323425293\n",
      "\n",
      "Validation round:   0%|          | 0/11 [00:00<?, ?batch/s]\u001b[A\n",
      "Epoch 1/40:  73%|███████▎  | 33/45 [00:06<00:01,  9.01img/s, loss (batch)=0.704]\n",
      "Validation round:   0%|          | 0/11 [00:00<?, ?batch/s]\u001b[A\n",
      "Validation round:   9%|▉         | 1/11 [00:00<00:01,  7.76batch/s]\u001b[A\n",
      "Validation round:  55%|█████▍    | 6/11 [00:00<00:00, 28.58batch/s]\u001b[A\n",
      "Validation round: 100%|██████████| 11/11 [00:00<00:00, 35.99batch/s]\u001b[A\n",
      "                                                                    \u001b[AINFO: Validation Dice score: 0.7198939323425293\n",
      "\n",
      "Validation round:   0%|          | 0/11 [00:00<?, ?batch/s]\u001b[A\n",
      "Epoch 1/40:  98%|█████████▊| 44/45 [00:08<00:00,  8.24img/s, loss (batch)=0.68] \n",
      "Validation round:   0%|          | 0/11 [00:00<?, ?batch/s]\u001b[A\n",
      "Validation round:   9%|▉         | 1/11 [00:00<00:01,  7.29batch/s]\u001b[A\n",
      "Validation round:  55%|█████▍    | 6/11 [00:00<00:00, 27.73batch/s]\u001b[A\n",
      "Validation round: 100%|██████████| 11/11 [00:00<00:00, 35.51batch/s]\u001b[A\n",
      "                                                                    \u001b[AINFO: Validation Dice score: 0.7199349403381348\n",
      "\n",
      "Validation round:   0%|          | 0/11 [00:00<?, ?batch/s]\u001b[A\n",
      "Epoch 1/40: 100%|██████████| 45/45 [00:09<00:00,  4.64img/s, loss (batch)=0.764]\n",
      "INFO: Checkpoint 1 saved!\n",
      "Epoch 2/40:  22%|██▏       | 10/45 [00:00<00:02, 13.57img/s, loss (batch)=0.681]\n",
      "Validation round:   0%|          | 0/11 [00:00<?, ?batch/s]\u001b[A\n",
      "Validation round:   9%|▉         | 1/11 [00:00<00:01,  7.73batch/s]\u001b[A\n",
      "Epoch 2/40:  22%|██▏       | 10/45 [00:01<00:05,  6.06img/s, loss (batch)=0.681]\n",
      "INFO: Saved interrupt\n"
     ]
    },
    {
     "ename": "KeyboardInterrupt",
     "evalue": "",
     "output_type": "error",
     "traceback": [
      "\u001b[0;31m---------------------------------------------------------------------------\u001b[0m",
      "\u001b[0;31mKeyboardInterrupt\u001b[0m                         Traceback (most recent call last)",
      "File \u001b[0;32m~/COMMAT/semantic_segmentation/train_2class.py:203\u001b[0m\n\u001b[1;32m    201\u001b[0m net\u001b[38;5;241m.\u001b[39mto(device\u001b[38;5;241m=\u001b[39mdevice)\n\u001b[1;32m    202\u001b[0m \u001b[38;5;28;01mtry\u001b[39;00m:\n\u001b[0;32m--> 203\u001b[0m     \u001b[43mtrain_net\u001b[49m\u001b[43m(\u001b[49m\u001b[43mnet\u001b[49m\u001b[38;5;241;43m=\u001b[39;49m\u001b[43mnet\u001b[49m\u001b[43m,\u001b[49m\n\u001b[1;32m    204\u001b[0m \u001b[43m              \u001b[49m\u001b[43mepochs\u001b[49m\u001b[38;5;241;43m=\u001b[39;49m\u001b[43margs\u001b[49m\u001b[38;5;241;43m.\u001b[39;49m\u001b[43mepochs\u001b[49m\u001b[43m,\u001b[49m\n\u001b[1;32m    205\u001b[0m \u001b[43m              \u001b[49m\u001b[43mbatch_size\u001b[49m\u001b[38;5;241;43m=\u001b[39;49m\u001b[43margs\u001b[49m\u001b[38;5;241;43m.\u001b[39;49m\u001b[43mbatch_size\u001b[49m\u001b[43m,\u001b[49m\n\u001b[1;32m    206\u001b[0m \u001b[43m              \u001b[49m\u001b[43mlearning_rate\u001b[49m\u001b[38;5;241;43m=\u001b[39;49m\u001b[43margs\u001b[49m\u001b[38;5;241;43m.\u001b[39;49m\u001b[43mlr\u001b[49m\u001b[43m,\u001b[49m\n\u001b[1;32m    207\u001b[0m \u001b[43m              \u001b[49m\u001b[43mdevice\u001b[49m\u001b[38;5;241;43m=\u001b[39;49m\u001b[43mdevice\u001b[49m\u001b[43m,\u001b[49m\n\u001b[1;32m    208\u001b[0m \u001b[43m              \u001b[49m\u001b[43mimg_scale\u001b[49m\u001b[38;5;241;43m=\u001b[39;49m\u001b[43margs\u001b[49m\u001b[38;5;241;43m.\u001b[39;49m\u001b[43mscale\u001b[49m\u001b[43m,\u001b[49m\n\u001b[1;32m    209\u001b[0m \u001b[43m              \u001b[49m\u001b[43mval_percent\u001b[49m\u001b[38;5;241;43m=\u001b[39;49m\u001b[43margs\u001b[49m\u001b[38;5;241;43m.\u001b[39;49m\u001b[43mval\u001b[49m\u001b[43m \u001b[49m\u001b[38;5;241;43m/\u001b[39;49m\u001b[43m \u001b[49m\u001b[38;5;241;43m100\u001b[39;49m\u001b[43m,\u001b[49m\n\u001b[1;32m    210\u001b[0m \u001b[43m              \u001b[49m\u001b[43mamp\u001b[49m\u001b[38;5;241;43m=\u001b[39;49m\u001b[43margs\u001b[49m\u001b[38;5;241;43m.\u001b[39;49m\u001b[43mamp\u001b[49m\u001b[43m)\u001b[49m\n\u001b[1;32m    211\u001b[0m \u001b[38;5;28;01mexcept\u001b[39;00m \u001b[38;5;167;01mKeyboardInterrupt\u001b[39;00m:\n\u001b[1;32m    212\u001b[0m     torch\u001b[38;5;241m.\u001b[39msave(net\u001b[38;5;241m.\u001b[39mstate_dict(), \u001b[38;5;124m'\u001b[39m\u001b[38;5;124mINTERRUPTED.pth\u001b[39m\u001b[38;5;124m'\u001b[39m)\n",
      "File \u001b[0;32m~/COMMAT/semantic_segmentation/train_2class.py:138\u001b[0m, in \u001b[0;36mtrain_net\u001b[0;34m(net, device, epochs, batch_size, learning_rate, val_percent, save_checkpoint, img_scale, amp)\u001b[0m\n\u001b[1;32m    135\u001b[0m     histograms[\u001b[38;5;124m'\u001b[39m\u001b[38;5;124mWeights/\u001b[39m\u001b[38;5;124m'\u001b[39m \u001b[38;5;241m+\u001b[39m tag] \u001b[38;5;241m=\u001b[39m wandb\u001b[38;5;241m.\u001b[39mHistogram(value\u001b[38;5;241m.\u001b[39mdata\u001b[38;5;241m.\u001b[39mcpu())\n\u001b[1;32m    136\u001b[0m     histograms[\u001b[38;5;124m'\u001b[39m\u001b[38;5;124mGradients/\u001b[39m\u001b[38;5;124m'\u001b[39m \u001b[38;5;241m+\u001b[39m tag] \u001b[38;5;241m=\u001b[39m wandb\u001b[38;5;241m.\u001b[39mHistogram(value\u001b[38;5;241m.\u001b[39mgrad\u001b[38;5;241m.\u001b[39mdata\u001b[38;5;241m.\u001b[39mcpu())\n\u001b[0;32m--> 138\u001b[0m val_score \u001b[38;5;241m=\u001b[39m \u001b[43mevaluate\u001b[49m\u001b[43m(\u001b[49m\u001b[43mnet\u001b[49m\u001b[43m,\u001b[49m\u001b[43m \u001b[49m\u001b[43mval_loader\u001b[49m\u001b[43m,\u001b[49m\u001b[43m \u001b[49m\u001b[43mdevice\u001b[49m\u001b[43m)\u001b[49m\n\u001b[1;32m    140\u001b[0m logging\u001b[38;5;241m.\u001b[39minfo(\u001b[38;5;124m'\u001b[39m\u001b[38;5;124mValidation Dice score: \u001b[39m\u001b[38;5;132;01m{}\u001b[39;00m\u001b[38;5;124m'\u001b[39m\u001b[38;5;241m.\u001b[39mformat(val_score))\n\u001b[1;32m    142\u001b[0m loss_score \u001b[38;5;241m=\u001b[39m val_loss(net, val_loader, device) \n",
      "File \u001b[0;32m~/COMMAT/semantic_segmentation/evaluate_2class.py:47\u001b[0m, in \u001b[0;36mevaluate\u001b[0;34m(net, dataloader, device)\u001b[0m\n\u001b[1;32m     45\u001b[0m             mask_pred \u001b[38;5;241m=\u001b[39m F\u001b[38;5;241m.\u001b[39mone_hot(mask_pred\u001b[38;5;241m.\u001b[39margmax(dim\u001b[38;5;241m=\u001b[39m\u001b[38;5;241m1\u001b[39m), net\u001b[38;5;241m.\u001b[39mn_classes)\u001b[38;5;241m.\u001b[39mpermute(\u001b[38;5;241m0\u001b[39m, \u001b[38;5;241m3\u001b[39m, \u001b[38;5;241m1\u001b[39m, \u001b[38;5;241m2\u001b[39m)\u001b[38;5;241m.\u001b[39mfloat()\n\u001b[1;32m     46\u001b[0m             \u001b[38;5;66;03m# compute the Dice score, ignoring background\u001b[39;00m\n\u001b[0;32m---> 47\u001b[0m             dice_score \u001b[38;5;241m+\u001b[39m\u001b[38;5;241m=\u001b[39m \u001b[43mmulticlass_dice_coeff\u001b[49m\u001b[43m(\u001b[49m\u001b[43mmask_pred\u001b[49m\u001b[43m[\u001b[49m\u001b[43m:\u001b[49m\u001b[43m,\u001b[49m\u001b[43m \u001b[49m\u001b[43m:\u001b[49m\u001b[43m,\u001b[49m\u001b[43m \u001b[49m\u001b[38;5;241;43m.\u001b[39;49m\u001b[38;5;241;43m.\u001b[39;49m\u001b[38;5;241;43m.\u001b[39;49m\u001b[43m]\u001b[49m\u001b[43m,\u001b[49m\u001b[43m \u001b[49m\u001b[43mmask_true\u001b[49m\u001b[43m[\u001b[49m\u001b[43m:\u001b[49m\u001b[43m,\u001b[49m\u001b[43m \u001b[49m\u001b[43m:\u001b[49m\u001b[43m,\u001b[49m\u001b[43m \u001b[49m\u001b[38;5;241;43m.\u001b[39;49m\u001b[38;5;241;43m.\u001b[39;49m\u001b[38;5;241;43m.\u001b[39;49m\u001b[43m]\u001b[49m\u001b[43m,\u001b[49m\u001b[43m \u001b[49m\u001b[43mreduce_batch_first\u001b[49m\u001b[38;5;241;43m=\u001b[39;49m\u001b[38;5;28;43;01mFalse\u001b[39;49;00m\u001b[43m)\u001b[49m\n\u001b[1;32m     51\u001b[0m net\u001b[38;5;241m.\u001b[39mtrain()\n\u001b[1;32m     53\u001b[0m \u001b[38;5;66;03m# Fixes a potential division by zero error\u001b[39;00m\n",
      "File \u001b[0;32m~/COMMAT/semantic_segmentation/utils/dice_score.py:31\u001b[0m, in \u001b[0;36mmulticlass_dice_coeff\u001b[0;34m(input, target, reduce_batch_first, epsilon)\u001b[0m\n\u001b[1;32m     29\u001b[0m dice \u001b[38;5;241m=\u001b[39m \u001b[38;5;241m0\u001b[39m\n\u001b[1;32m     30\u001b[0m \u001b[38;5;28;01mfor\u001b[39;00m channel \u001b[38;5;129;01min\u001b[39;00m \u001b[38;5;28mrange\u001b[39m(\u001b[38;5;28minput\u001b[39m\u001b[38;5;241m.\u001b[39mshape[\u001b[38;5;241m1\u001b[39m]):\n\u001b[0;32m---> 31\u001b[0m     dice \u001b[38;5;241m+\u001b[39m\u001b[38;5;241m=\u001b[39m \u001b[43mdice_coeff\u001b[49m\u001b[43m(\u001b[49m\u001b[38;5;28;43minput\u001b[39;49m\u001b[43m[\u001b[49m\u001b[43m:\u001b[49m\u001b[43m,\u001b[49m\u001b[43m \u001b[49m\u001b[43mchannel\u001b[49m\u001b[43m,\u001b[49m\u001b[43m \u001b[49m\u001b[38;5;241;43m.\u001b[39;49m\u001b[38;5;241;43m.\u001b[39;49m\u001b[38;5;241;43m.\u001b[39;49m\u001b[43m]\u001b[49m\u001b[43m,\u001b[49m\u001b[43m \u001b[49m\u001b[43mtarget\u001b[49m\u001b[43m[\u001b[49m\u001b[43m:\u001b[49m\u001b[43m,\u001b[49m\u001b[43m \u001b[49m\u001b[43mchannel\u001b[49m\u001b[43m,\u001b[49m\u001b[43m \u001b[49m\u001b[38;5;241;43m.\u001b[39;49m\u001b[38;5;241;43m.\u001b[39;49m\u001b[38;5;241;43m.\u001b[39;49m\u001b[43m]\u001b[49m\u001b[43m,\u001b[49m\u001b[43m \u001b[49m\u001b[43mreduce_batch_first\u001b[49m\u001b[43m,\u001b[49m\u001b[43m \u001b[49m\u001b[43mepsilon\u001b[49m\u001b[43m)\u001b[49m\n\u001b[1;32m     33\u001b[0m \u001b[38;5;28;01mreturn\u001b[39;00m dice \u001b[38;5;241m/\u001b[39m \u001b[38;5;28minput\u001b[39m\u001b[38;5;241m.\u001b[39mshape[\u001b[38;5;241m1\u001b[39m]\n",
      "File \u001b[0;32m~/COMMAT/semantic_segmentation/utils/dice_score.py:22\u001b[0m, in \u001b[0;36mdice_coeff\u001b[0;34m(input, target, reduce_batch_first, epsilon)\u001b[0m\n\u001b[1;32m     20\u001b[0m dice \u001b[38;5;241m=\u001b[39m \u001b[38;5;241m0\u001b[39m\n\u001b[1;32m     21\u001b[0m \u001b[38;5;28;01mfor\u001b[39;00m i \u001b[38;5;129;01min\u001b[39;00m \u001b[38;5;28mrange\u001b[39m(\u001b[38;5;28minput\u001b[39m\u001b[38;5;241m.\u001b[39mshape[\u001b[38;5;241m0\u001b[39m]):\n\u001b[0;32m---> 22\u001b[0m     dice \u001b[38;5;241m+\u001b[39m\u001b[38;5;241m=\u001b[39m \u001b[43mdice_coeff\u001b[49m\u001b[43m(\u001b[49m\u001b[38;5;28;43minput\u001b[39;49m\u001b[43m[\u001b[49m\u001b[43mi\u001b[49m\u001b[43m,\u001b[49m\u001b[43m \u001b[49m\u001b[38;5;241;43m.\u001b[39;49m\u001b[38;5;241;43m.\u001b[39;49m\u001b[38;5;241;43m.\u001b[39;49m\u001b[43m]\u001b[49m\u001b[43m,\u001b[49m\u001b[43m \u001b[49m\u001b[43mtarget\u001b[49m\u001b[43m[\u001b[49m\u001b[43mi\u001b[49m\u001b[43m,\u001b[49m\u001b[43m \u001b[49m\u001b[38;5;241;43m.\u001b[39;49m\u001b[38;5;241;43m.\u001b[39;49m\u001b[38;5;241;43m.\u001b[39;49m\u001b[43m]\u001b[49m\u001b[43m)\u001b[49m\n\u001b[1;32m     23\u001b[0m \u001b[38;5;28;01mreturn\u001b[39;00m dice \u001b[38;5;241m/\u001b[39m \u001b[38;5;28minput\u001b[39m\u001b[38;5;241m.\u001b[39mshape[\u001b[38;5;241m0\u001b[39m]\n",
      "File \u001b[0;32m~/COMMAT/semantic_segmentation/utils/dice_score.py:14\u001b[0m, in \u001b[0;36mdice_coeff\u001b[0;34m(input, target, reduce_batch_first, epsilon)\u001b[0m\n\u001b[1;32m     12\u001b[0m inter \u001b[38;5;241m=\u001b[39m torch\u001b[38;5;241m.\u001b[39mdot(\u001b[38;5;28minput\u001b[39m\u001b[38;5;241m.\u001b[39mreshape(\u001b[38;5;241m-\u001b[39m\u001b[38;5;241m1\u001b[39m), target\u001b[38;5;241m.\u001b[39mreshape(\u001b[38;5;241m-\u001b[39m\u001b[38;5;241m1\u001b[39m))\n\u001b[1;32m     13\u001b[0m sets_sum \u001b[38;5;241m=\u001b[39m torch\u001b[38;5;241m.\u001b[39msum(\u001b[38;5;28minput\u001b[39m) \u001b[38;5;241m+\u001b[39m torch\u001b[38;5;241m.\u001b[39msum(target)\n\u001b[0;32m---> 14\u001b[0m \u001b[38;5;28;01mif\u001b[39;00m \u001b[43msets_sum\u001b[49m\u001b[38;5;241;43m.\u001b[39;49m\u001b[43mitem\u001b[49m\u001b[43m(\u001b[49m\u001b[43m)\u001b[49m \u001b[38;5;241m==\u001b[39m \u001b[38;5;241m0\u001b[39m:\n\u001b[1;32m     15\u001b[0m     sets_sum \u001b[38;5;241m=\u001b[39m \u001b[38;5;241m2\u001b[39m \u001b[38;5;241m*\u001b[39m inter\n\u001b[1;32m     17\u001b[0m \u001b[38;5;28;01mreturn\u001b[39;00m (\u001b[38;5;241m2\u001b[39m \u001b[38;5;241m*\u001b[39m inter \u001b[38;5;241m+\u001b[39m epsilon) \u001b[38;5;241m/\u001b[39m (sets_sum \u001b[38;5;241m+\u001b[39m epsilon)\n",
      "\u001b[0;31mKeyboardInterrupt\u001b[0m: "
     ]
    }
   ],
   "source": [
    "run train_3class.py -e 40"
   ]
  },
  {
   "cell_type": "code",
   "execution_count": null,
   "id": "9048c6ae-c57b-4896-9c52-89f996321ae0",
   "metadata": {},
   "outputs": [],
   "source": []
  }
 ],
 "metadata": {
  "kernelspec": {
   "display_name": "0608",
   "language": "python",
   "name": "0608"
  },
  "language_info": {
   "codemirror_mode": {
    "name": "ipython",
    "version": 3
   },
   "file_extension": ".py",
   "mimetype": "text/x-python",
   "name": "python",
   "nbconvert_exporter": "python",
   "pygments_lexer": "ipython3",
   "version": "3.9.16"
  }
 },
 "nbformat": 4,
 "nbformat_minor": 5
}
