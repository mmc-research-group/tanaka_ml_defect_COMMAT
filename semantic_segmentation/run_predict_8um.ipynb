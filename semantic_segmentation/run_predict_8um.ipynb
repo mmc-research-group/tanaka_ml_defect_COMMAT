{
 "cells": [
  {
   "cell_type": "code",
   "execution_count": 2,
   "id": "32ea0a72",
   "metadata": {},
   "outputs": [
    {
     "name": "stdout",
     "output_type": "stream",
     "text": [
      "0\n",
      "ds 3687\n",
      "st 0\n",
      "1\n",
      "ds 3700\n",
      "st 0\n",
      "2\n",
      "ds 3697\n",
      "st 0\n",
      "3\n",
      "ds 3725\n",
      "st 0\n",
      "4\n",
      "ds 3719\n",
      "st 0\n",
      "5\n",
      "ds 3731\n",
      "st 0\n",
      "6\n",
      "ds 3726\n",
      "st 0\n",
      "7\n",
      "ds 3692\n",
      "st 0\n",
      "8\n",
      "ds 3720\n",
      "st 0\n",
      "9\n",
      "ds 3697\n",
      "st 0\n",
      "10\n",
      "ds 3713\n",
      "st 0\n",
      "11\n",
      "ds 3633\n",
      "st 0\n",
      "12\n",
      "ds 3662\n",
      "st 0\n",
      "13\n",
      "ds 3727\n",
      "st 0\n",
      "14\n",
      "ds 3739\n",
      "st 0\n",
      "15\n",
      "ds 3731\n",
      "st 0\n",
      "16\n",
      "ds 3703\n",
      "st 0\n",
      "17\n",
      "ds 3741\n",
      "st 0\n",
      "18\n",
      "ds 3724\n",
      "st 0\n",
      "19\n"
     ]
    },
    {
     "ename": "KeyboardInterrupt",
     "evalue": "",
     "output_type": "error",
     "traceback": [
      "\u001b[0;31m---------------------------------------------------------------------------\u001b[0m",
      "\u001b[0;31mKeyboardInterrupt\u001b[0m                         Traceback (most recent call last)",
      "File \u001b[0;32m~/COMMAT/semantic_segmentation/predict_8um.py:120\u001b[0m\n\u001b[1;32m    117\u001b[0m logging\u001b[38;5;241m.\u001b[39minfo(\u001b[38;5;124mf\u001b[39m\u001b[38;5;124m'\u001b[39m\u001b[38;5;130;01m\\n\u001b[39;00m\u001b[38;5;124mPredicting image \u001b[39m\u001b[38;5;132;01m{\u001b[39;00mfilename\u001b[38;5;132;01m}\u001b[39;00m\u001b[38;5;124m ...\u001b[39m\u001b[38;5;124m'\u001b[39m)\n\u001b[1;32m    118\u001b[0m img \u001b[38;5;241m=\u001b[39m Image\u001b[38;5;241m.\u001b[39mopen(filename)\n\u001b[0;32m--> 120\u001b[0m mask \u001b[38;5;241m=\u001b[39m \u001b[43mpredict_img\u001b[49m\u001b[43m(\u001b[49m\u001b[43mnet\u001b[49m\u001b[38;5;241;43m=\u001b[39;49m\u001b[43mnet\u001b[49m\u001b[43m,\u001b[49m\n\u001b[1;32m    121\u001b[0m \u001b[43m                   \u001b[49m\u001b[43mfull_img\u001b[49m\u001b[38;5;241;43m=\u001b[39;49m\u001b[43mimg\u001b[49m\u001b[43m,\u001b[49m\n\u001b[1;32m    122\u001b[0m \u001b[43m                   \u001b[49m\u001b[43mscale_factor\u001b[49m\u001b[38;5;241;43m=\u001b[39;49m\u001b[38;5;241;43m1\u001b[39;49m\u001b[43m,\u001b[49m\n\u001b[1;32m    123\u001b[0m \u001b[43m                   \u001b[49m\u001b[43mout_threshold\u001b[49m\u001b[38;5;241;43m=\u001b[39;49m\u001b[43margs\u001b[49m\u001b[38;5;241;43m.\u001b[39;49m\u001b[43mmask_threshold\u001b[49m\u001b[43m,\u001b[49m\n\u001b[1;32m    124\u001b[0m \u001b[43m                   \u001b[49m\u001b[43mdevice\u001b[49m\u001b[38;5;241;43m=\u001b[39;49m\u001b[43mdevice\u001b[49m\u001b[43m)\u001b[49m\n\u001b[1;32m    126\u001b[0m back \u001b[38;5;241m=\u001b[39m np\u001b[38;5;241m.\u001b[39mwhere(mask[\u001b[38;5;241m0\u001b[39m]\u001b[38;5;241m==\u001b[39m\u001b[38;5;241m1\u001b[39m,\u001b[38;5;241m0\u001b[39m,\u001b[38;5;241m0\u001b[39m)\n\u001b[1;32m    127\u001b[0m ds \u001b[38;5;241m=\u001b[39m mask[\u001b[38;5;241m1\u001b[39m]\n",
      "File \u001b[0;32m~/COMMAT/semantic_segmentation/predict_8um.py:31\u001b[0m, in \u001b[0;36mpredict_img\u001b[0;34m(net, full_img, device, scale_factor, out_threshold)\u001b[0m\n\u001b[1;32m     29\u001b[0m img \u001b[38;5;241m=\u001b[39m torch\u001b[38;5;241m.\u001b[39mfrom_numpy(BasicDataset\u001b[38;5;241m.\u001b[39mpreprocess(full_img, scale_factor, is_mask\u001b[38;5;241m=\u001b[39m\u001b[38;5;28;01mFalse\u001b[39;00m))\n\u001b[1;32m     30\u001b[0m img \u001b[38;5;241m=\u001b[39m img\u001b[38;5;241m.\u001b[39munsqueeze(\u001b[38;5;241m0\u001b[39m)\n\u001b[0;32m---> 31\u001b[0m img \u001b[38;5;241m=\u001b[39m \u001b[43mimg\u001b[49m\u001b[38;5;241;43m.\u001b[39;49m\u001b[43mto\u001b[49m\u001b[43m(\u001b[49m\u001b[43mdevice\u001b[49m\u001b[38;5;241;43m=\u001b[39;49m\u001b[43mdevice\u001b[49m\u001b[43m,\u001b[49m\u001b[43m \u001b[49m\u001b[43mdtype\u001b[49m\u001b[38;5;241;43m=\u001b[39;49m\u001b[43mtorch\u001b[49m\u001b[38;5;241;43m.\u001b[39;49m\u001b[43mfloat32\u001b[49m\u001b[43m)\u001b[49m\n\u001b[1;32m     33\u001b[0m \u001b[38;5;28;01mwith\u001b[39;00m torch\u001b[38;5;241m.\u001b[39mno_grad():\n\u001b[1;32m     34\u001b[0m     output \u001b[38;5;241m=\u001b[39m net(img)\n",
      "\u001b[0;31mKeyboardInterrupt\u001b[0m: "
     ]
    }
   ],
   "source": [
    "run predict_8um.py -i cut_contrast_8.4μm_2_img_000.png -o output_000.png"
   ]
  },
  {
   "cell_type": "code",
   "execution_count": null,
   "id": "b23bed23-d9bd-450c-a4bb-ba8f53f8242b",
   "metadata": {},
   "outputs": [],
   "source": []
  }
 ],
 "metadata": {
  "kernelspec": {
   "display_name": "0608",
   "language": "python",
   "name": "0608"
  },
  "language_info": {
   "codemirror_mode": {
    "name": "ipython",
    "version": 3
   },
   "file_extension": ".py",
   "mimetype": "text/x-python",
   "name": "python",
   "nbconvert_exporter": "python",
   "pygments_lexer": "ipython3",
   "version": "3.9.16"
  }
 },
 "nbformat": 4,
 "nbformat_minor": 5
}
